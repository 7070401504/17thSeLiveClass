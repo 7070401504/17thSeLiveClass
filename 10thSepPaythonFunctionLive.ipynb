{
 "cells": [
  {
   "cell_type": "code",
   "execution_count": 1,
   "id": "c7b92775",
   "metadata": {},
   "outputs": [],
   "source": [
    "def greet():\n",
    "    message=\"hello\"\n",
    "    print(\"local\",message)\n",
    "    "
   ]
  },
  {
   "cell_type": "code",
   "execution_count": 2,
   "id": "4aa96ad3",
   "metadata": {},
   "outputs": [
    {
     "name": "stdout",
     "output_type": "stream",
     "text": [
      "local hello\n"
     ]
    }
   ],
   "source": [
    "greet()"
   ]
  },
  {
   "cell_type": "code",
   "execution_count": 4,
   "id": "bc5601a2",
   "metadata": {},
   "outputs": [],
   "source": [
    "def greet():\n",
    "    message=\"hello\"\n",
    "    print(\"local\",message)\n",
    "    print(message)\n",
    "    greet()"
   ]
  },
  {
   "cell_type": "code",
   "execution_count": 6,
   "id": "8f9d9a41",
   "metadata": {},
   "outputs": [
    {
     "data": {
      "text/plain": [
       "9"
      ]
     },
     "execution_count": 6,
     "metadata": {},
     "output_type": "execute_result"
    }
   ],
   "source": [
    "4+5"
   ]
  },
  {
   "cell_type": "code",
   "execution_count": 5,
   "id": "240ca4e2",
   "metadata": {},
   "outputs": [
    {
     "name": "stdout",
     "output_type": "stream",
     "text": [
      "python isfantastic\n",
      "awaase\n"
     ]
    }
   ],
   "source": [
    "x=\"awaase\"\n",
    "\n",
    "def myfunction():\n",
    "    x=\"fantastic\"\n",
    "    print(\"python is\"+x )\n",
    "myfunction()\n",
    "print(x)"
   ]
  },
  {
   "cell_type": "code",
   "execution_count": 3,
   "id": "a1cf4889",
   "metadata": {},
   "outputs": [
    {
     "name": "stdout",
     "output_type": "stream",
     "text": [
      "python is fantastic\n",
      "awaase\n"
     ]
    }
   ],
   "source": [
    "x = \"awaase\"\n",
    "\n",
    "def myfunction():\n",
    "    x = \"fantastic\"\n",
    "    print(\"python is \" + x)\n",
    "\n",
    "myfunction()\n",
    "print(x)\n"
   ]
  },
  {
   "cell_type": "code",
   "execution_count": 10,
   "id": "f142f160",
   "metadata": {},
   "outputs": [
    {
     "name": "stdout",
     "output_type": "stream",
     "text": [
      "local variable y = 30\n",
      "global variable x = 20\n",
      "Sum = 50\n",
      "local variable m = 10\n"
     ]
    }
   ],
   "source": [
    "x = 20\n",
    "\n",
    "def add():\n",
    "    y = 30\n",
    "    print(\"local variable y =\", y)\n",
    "    print(\"global variable x =\", x)\n",
    "    z = x + y\n",
    "    print(\"Sum =\", z)\n",
    "    \n",
    "    def sub():\n",
    "        m = 10\n",
    "        print(\"local variable m =\", m)\n",
    "\n",
    "    sub()\n",
    "\n",
    "add()\n"
   ]
  },
  {
   "cell_type": "code",
   "execution_count": 8,
   "id": "6a845ce9",
   "metadata": {},
   "outputs": [
    {
     "name": "stdout",
     "output_type": "stream",
     "text": [
      "local variable y = 30\n",
      "global variable x = 20\n",
      "Sum = 50\n",
      "local variable m = 10\n"
     ]
    }
   ],
   "source": [
    "x = 20\n",
    "\n",
    "def add():\n",
    "    y = 30\n",
    "    print(\"local variable y =\", y)\n",
    "    print(\"global variable x =\", x)\n",
    "    z = x + y\n",
    "    print(\"Sum =\", z)\n",
    "    \n",
    "    def sub():\n",
    "        m = 10\n",
    "        print(\"local variable m =\", m)\n",
    "\n",
    "    sub()\n",
    "\n",
    "add()\n"
   ]
  },
  {
   "cell_type": "code",
   "execution_count": 18,
   "id": "5680b553",
   "metadata": {},
   "outputs": [],
   "source": [
    "def shahahns():\n",
    "    print(\"shahahs\")\n",
    "    shahahns()"
   ]
  },
  {
   "cell_type": "markdown",
   "id": "ef1b04e8",
   "metadata": {},
   "source": [
    "# python function argument"
   ]
  },
  {
   "cell_type": "code",
   "execution_count": 48,
   "id": "fcd4d92e",
   "metadata": {},
   "outputs": [],
   "source": [
    "def add_number(a,b):\n",
    "    sum=a+b\n",
    "    print(\"sum\",sum)"
   ]
  },
  {
   "cell_type": "code",
   "execution_count": 50,
   "id": "ebf9a442",
   "metadata": {},
   "outputs": [
    {
     "name": "stdout",
     "output_type": "stream",
     "text": [
      "sum 70\n"
     ]
    }
   ],
   "source": [
    "add_number(4,66)"
   ]
  },
  {
   "cell_type": "code",
   "execution_count": 33,
   "id": "8643dc55",
   "metadata": {},
   "outputs": [
    {
     "name": "stdout",
     "output_type": "stream",
     "text": [
      "My name is shahanshah\n"
     ]
    }
   ],
   "source": [
    "def def_name(name):\n",
    "    print(\"My name is\", name)\n",
    "\n",
    "# Example usage:\n",
    "def_name(\"shahanshah\")\n"
   ]
  },
  {
   "cell_type": "code",
   "execution_count": 34,
   "id": "f358b51a",
   "metadata": {},
   "outputs": [],
   "source": [
    "def def_name(name):\n",
    "    print(\"my name is \",name)"
   ]
  },
  {
   "cell_type": "code",
   "execution_count": 38,
   "id": "adfe3140",
   "metadata": {},
   "outputs": [
    {
     "name": "stdout",
     "output_type": "stream",
     "text": [
      "my name is  shahansha\n"
     ]
    }
   ],
   "source": [
    "def_name(\"shahansha\")"
   ]
  },
  {
   "cell_type": "code",
   "execution_count": 40,
   "id": "2caaf87e",
   "metadata": {},
   "outputs": [],
   "source": [
    "def add_number(a=4,b=8):\n",
    "    sum=a+b\n",
    "    print(\"sum\",sum)"
   ]
  },
  {
   "cell_type": "code",
   "execution_count": 41,
   "id": "e889d0da",
   "metadata": {},
   "outputs": [
    {
     "name": "stdout",
     "output_type": "stream",
     "text": [
      "sum 12\n"
     ]
    }
   ],
   "source": [
    "add_number()"
   ]
  },
  {
   "cell_type": "code",
   "execution_count": 42,
   "id": "dc6cec77",
   "metadata": {},
   "outputs": [
    {
     "name": "stdout",
     "output_type": "stream",
     "text": [
      "sum 111\n"
     ]
    }
   ],
   "source": [
    "add_number(45,66)"
   ]
  },
  {
   "cell_type": "code",
   "execution_count": 45,
   "id": "1c011968",
   "metadata": {},
   "outputs": [],
   "source": [
    "def emp_name(name=\"pw skill\"):\n",
    "    print(\"my name is \",name)"
   ]
  },
  {
   "cell_type": "code",
   "execution_count": 47,
   "id": "889fe543",
   "metadata": {},
   "outputs": [
    {
     "name": "stdout",
     "output_type": "stream",
     "text": [
      "my name is  mohammad shaahsnaha\n"
     ]
    }
   ],
   "source": [
    "emp_name(\"mohammad shaahsnaha\")"
   ]
  },
  {
   "cell_type": "markdown",
   "id": "08e6039b",
   "metadata": {},
   "source": [
    "# keyword argument"
   ]
  },
  {
   "cell_type": "code",
   "execution_count": 75,
   "id": "fba5812b",
   "metadata": {},
   "outputs": [],
   "source": [
    "def display_info(first_name,last_name):\n",
    "    print(\"first name\",first_name)\n",
    "    print(\"last name\",lat_name)"
   ]
  },
  {
   "cell_type": "code",
   "execution_count": 69,
   "id": "541574e9",
   "metadata": {},
   "outputs": [
    {
     "name": "stdout",
     "output_type": "stream",
     "text": [
      "First name: pw\n",
      "Last name: skill\n"
     ]
    }
   ],
   "source": [
    "display_info(first_name=\"pw\",last_name=\"skill\")"
   ]
  },
  {
   "cell_type": "code",
   "execution_count": 64,
   "id": "1f3784d8",
   "metadata": {},
   "outputs": [],
   "source": [
    "def display_info(first_name, last_name):\n",
    "    print(\"First name:\", first_name)\n",
    "    print(\"Last name:\", last_name)\n"
   ]
  },
  {
   "cell_type": "code",
   "execution_count": 65,
   "id": "99b88ed2",
   "metadata": {},
   "outputs": [
    {
     "name": "stdout",
     "output_type": "stream",
     "text": [
      "First name: pw\n",
      "Last name: skill\n"
     ]
    }
   ],
   "source": [
    "display_info(first_name=\"pw\",last_name=\"skill\")"
   ]
  },
  {
   "cell_type": "code",
   "execution_count": 72,
   "id": "226b3ae6",
   "metadata": {},
   "outputs": [],
   "source": [
    "def add_number(a,b):\n",
    "    sum=a+b\n",
    "    print(\"sum\",sum)"
   ]
  },
  {
   "cell_type": "code",
   "execution_count": 103,
   "id": "28d38271",
   "metadata": {},
   "outputs": [],
   "source": [
    "def add_number(a,b,c,d):\n",
    "    sum=a+b\n",
    "    print(\"sum\",sum)"
   ]
  },
  {
   "cell_type": "code",
   "execution_count": 106,
   "id": "73490df5",
   "metadata": {},
   "outputs": [
    {
     "name": "stdout",
     "output_type": "stream",
     "text": [
      "sum 6\n"
     ]
    }
   ],
   "source": [
    "add_number(2,4,5,6)"
   ]
  },
  {
   "cell_type": "code",
   "execution_count": 77,
   "id": "363e58de",
   "metadata": {},
   "outputs": [
    {
     "name": "stdout",
     "output_type": "stream",
     "text": [
      "sum 102\n"
     ]
    }
   ],
   "source": [
    "add_number(a=97,b=5)"
   ]
  },
  {
   "cell_type": "code",
   "execution_count": 78,
   "id": "539b92da",
   "metadata": {},
   "outputs": [
    {
     "name": "stdout",
     "output_type": "stream",
     "text": [
      "sum 132\n"
     ]
    }
   ],
   "source": [
    "add_number(b=55,a=77)"
   ]
  },
  {
   "cell_type": "markdown",
   "id": "5d709437",
   "metadata": {},
   "source": [
    "# *arg and **args"
   ]
  },
  {
   "cell_type": "code",
   "execution_count": 98,
   "id": "9aeaa06f",
   "metadata": {},
   "outputs": [],
   "source": [
    "def find_number(*number):\n",
    "    result=0\n",
    "    for num in number:\n",
    "        result=result+num\n",
    "    print(\"sum\",result)"
   ]
  },
  {
   "cell_type": "code",
   "execution_count": 99,
   "id": "8195d0b6",
   "metadata": {},
   "outputs": [
    {
     "name": "stdout",
     "output_type": "stream",
     "text": [
      "sum 0\n"
     ]
    }
   ],
   "source": [
    "find_number()"
   ]
  },
  {
   "cell_type": "code",
   "execution_count": 100,
   "id": "957054d4",
   "metadata": {},
   "outputs": [
    {
     "name": "stdout",
     "output_type": "stream",
     "text": [
      "sum 6\n"
     ]
    }
   ],
   "source": [
    "find_number(1,2,3)"
   ]
  },
  {
   "cell_type": "code",
   "execution_count": 101,
   "id": "9633af98",
   "metadata": {},
   "outputs": [
    {
     "name": "stdout",
     "output_type": "stream",
     "text": [
      "sum 81\n"
     ]
    }
   ],
   "source": [
    "find_number(1,2,3,4,56,7,8,)"
   ]
  },
  {
   "cell_type": "code",
   "execution_count": 102,
   "id": "42195f10",
   "metadata": {},
   "outputs": [
    {
     "name": "stdout",
     "output_type": "stream",
     "text": [
      "sum 110\n"
     ]
    }
   ],
   "source": [
    "find_number(3,3,4,5,67,8,9,6,5)"
   ]
  },
  {
   "cell_type": "code",
   "execution_count": 119,
   "id": "02432d1b",
   "metadata": {},
   "outputs": [],
   "source": [
    "def def_simple(*x):\n",
    "    print(x)"
   ]
  },
  {
   "cell_type": "code",
   "execution_count": 121,
   "id": "8e99e003",
   "metadata": {},
   "outputs": [
    {
     "name": "stdout",
     "output_type": "stream",
     "text": [
      "(4, 5, 6, 4, 32)\n"
     ]
    }
   ],
   "source": [
    "def_simple(4,5,6,4,32,)"
   ]
  },
  {
   "cell_type": "code",
   "execution_count": 122,
   "id": "9271c30c",
   "metadata": {},
   "outputs": [
    {
     "name": "stdout",
     "output_type": "stream",
     "text": [
      "(1, 2, 3)\n"
     ]
    }
   ],
   "source": [
    "def simple(*x):\n",
    "    print(x)\n",
    "\n",
    "# Example usage:\n",
    "simple(1, 2, 3)\n"
   ]
  },
  {
   "cell_type": "code",
   "execution_count": null,
   "id": "d9fed1ed",
   "metadata": {},
   "outputs": [],
   "source": [
    "def intro(**data):\n",
    "    print(\"data type of argument\",type(data))\n",
    "    for key,value in data"
   ]
  },
  {
   "cell_type": "code",
   "execution_count": 129,
   "id": "37e2079c",
   "metadata": {},
   "outputs": [],
   "source": [
    "x={\"a\":1,\"b\":2}"
   ]
  },
  {
   "cell_type": "code",
   "execution_count": 133,
   "id": "de8dee5d",
   "metadata": {},
   "outputs": [
    {
     "name": "stdout",
     "output_type": "stream",
     "text": [
      "a 1\n",
      "b 2\n"
     ]
    }
   ],
   "source": [
    "x={\"a\":1,\"b\":2}\n",
    "\n",
    "for keys,value in x.items():\n",
    "    print(keys,value)"
   ]
  },
  {
   "cell_type": "code",
   "execution_count": 134,
   "id": "bed4ba6b",
   "metadata": {},
   "outputs": [
    {
     "name": "stdout",
     "output_type": "stream",
     "text": [
      "a 1\n",
      "b 2\n",
      "c 3\n"
     ]
    }
   ],
   "source": [
    "x = {\"a\": 1, \"b\": 2, \"c\": 3}\n",
    "\n",
    "for key, value in x.items():\n",
    "    print(key, value)\n"
   ]
  },
  {
   "cell_type": "code",
   "execution_count": 135,
   "id": "d7066e9a",
   "metadata": {},
   "outputs": [],
   "source": [
    "def intro(**data):\n",
    "    print(\"data type of argument\",type(data))\n",
    "    for key,value in data.items():\n",
    "        print(key,value)"
   ]
  },
  {
   "cell_type": "code",
   "execution_count": 136,
   "id": "917543d3",
   "metadata": {},
   "outputs": [
    {
     "name": "stdout",
     "output_type": "stream",
     "text": [
      "data type of argument <class 'dict'>\n",
      "firsname pw\n",
      "lastname skill\n"
     ]
    }
   ],
   "source": [
    "intro(firsname=\"pw\",lastname=\"skill\")"
   ]
  },
  {
   "cell_type": "code",
   "execution_count": 1,
   "id": "bf36d239",
   "metadata": {},
   "outputs": [],
   "source": [
    "def single(**x):\n",
    "    print(x)"
   ]
  },
  {
   "cell_type": "code",
   "execution_count": 8,
   "id": "7d2fb3ad",
   "metadata": {},
   "outputs": [
    {
     "name": "stdout",
     "output_type": "stream",
     "text": [
      "{}\n"
     ]
    }
   ],
   "source": [
    "single()"
   ]
  },
  {
   "cell_type": "code",
   "execution_count": 9,
   "id": "199a8c20",
   "metadata": {},
   "outputs": [],
   "source": [
    "def simple(*y):\n",
    "    print(y)"
   ]
  },
  {
   "cell_type": "code",
   "execution_count": 10,
   "id": "e43b0646",
   "metadata": {},
   "outputs": [
    {
     "name": "stdout",
     "output_type": "stream",
     "text": [
      "(3, 4)\n"
     ]
    }
   ],
   "source": [
    "simple(3,4)"
   ]
  },
  {
   "cell_type": "code",
   "execution_count": 11,
   "id": "5860343d",
   "metadata": {},
   "outputs": [
    {
     "name": "stdout",
     "output_type": "stream",
     "text": [
      "(3, 4, 5, 6, 7, 8)\n"
     ]
    }
   ],
   "source": [
    "simple(3,4,5,6,7,8)"
   ]
  },
  {
   "cell_type": "code",
   "execution_count": 12,
   "id": "49e8b6a9",
   "metadata": {},
   "outputs": [],
   "source": [
    "def single(**x):\n",
    "    print(x)"
   ]
  },
  {
   "cell_type": "code",
   "execution_count": null,
   "id": "5de1757e",
   "metadata": {},
   "outputs": [],
   "source": []
  },
  {
   "cell_type": "code",
   "execution_count": 14,
   "id": "ca98eb55",
   "metadata": {},
   "outputs": [],
   "source": [
    "def shownumber(*x):\n",
    "    print(x)"
   ]
  },
  {
   "cell_type": "code",
   "execution_count": 15,
   "id": "270e8b43",
   "metadata": {},
   "outputs": [
    {
     "name": "stdout",
     "output_type": "stream",
     "text": [
      "(1,)\n"
     ]
    }
   ],
   "source": [
    "shownumber(1)"
   ]
  },
  {
   "cell_type": "code",
   "execution_count": 16,
   "id": "6e5aeb19",
   "metadata": {},
   "outputs": [
    {
     "name": "stdout",
     "output_type": "stream",
     "text": [
      "(3, 4, 5, 6, 7)\n"
     ]
    }
   ],
   "source": [
    "shownumber(3,4,5,6,7,)"
   ]
  },
  {
   "cell_type": "code",
   "execution_count": 1,
   "id": "28a0556a",
   "metadata": {},
   "outputs": [],
   "source": [
    "def showkeyvalue(**y):\n",
    "    print()"
   ]
  },
  {
   "cell_type": "code",
   "execution_count": 5,
   "id": "2731c123",
   "metadata": {},
   "outputs": [
    {
     "name": "stdout",
     "output_type": "stream",
     "text": [
      "\n"
     ]
    }
   ],
   "source": [
    "showkeyvalue(x=\"1\",r=\"5\")"
   ]
  },
  {
   "cell_type": "code",
   "execution_count": 6,
   "id": "c0a46010",
   "metadata": {},
   "outputs": [
    {
     "name": "stdout",
     "output_type": "stream",
     "text": [
      "name: John\n",
      "age: 25\n",
      "city: New York\n"
     ]
    }
   ],
   "source": [
    "def showkeyvalue(**y):\n",
    "    for key, value in y.items():\n",
    "        print(f\"{key}: {value}\")\n",
    "\n",
    "# Example usage:\n",
    "showkeyvalue(name=\"John\", age=25, city=\"New York\")\n"
   ]
  },
  {
   "cell_type": "code",
   "execution_count": 7,
   "id": "2b559b44",
   "metadata": {},
   "outputs": [
    {
     "name": "stdout",
     "output_type": "stream",
     "text": [
      "shahanshah\n"
     ]
    }
   ],
   "source": [
    "x=lambda :print(\"shahanshah\")\n",
    "x()"
   ]
  },
  {
   "cell_type": "code",
   "execution_count": 11,
   "id": "c8a6641a",
   "metadata": {},
   "outputs": [],
   "source": [
    "addnum=lambda a,b:a+b\n",
    "\n"
   ]
  },
  {
   "cell_type": "code",
   "execution_count": 13,
   "id": "664c8fa3",
   "metadata": {},
   "outputs": [
    {
     "data": {
      "text/plain": [
       "8"
      ]
     },
     "execution_count": 13,
     "metadata": {},
     "output_type": "execute_result"
    }
   ],
   "source": [
    "addnum(3,5)"
   ]
  },
  {
   "cell_type": "code",
   "execution_count": 14,
   "id": "3380b43a",
   "metadata": {},
   "outputs": [
    {
     "data": {
      "text/plain": [
       "11"
      ]
     },
     "execution_count": 14,
     "metadata": {},
     "output_type": "execute_result"
    }
   ],
   "source": [
    "multi=lambda a,b:a+b\n",
    "multi(5,6)"
   ]
  },
  {
   "cell_type": "code",
   "execution_count": 1,
   "id": "34be0e82",
   "metadata": {},
   "outputs": [
    {
     "name": "stdout",
     "output_type": "stream",
     "text": [
      "enter the first number6\n",
      "enter the second number7\n",
      "(36, 49)\n"
     ]
    }
   ],
   "source": [
    "a=int(input(\"enter the first number\"))\n",
    "b=int(input(\"enter the second number\"))\n",
    "square=lambda a,b:(a**2,b**2)\n",
    "print(square(a,b))"
   ]
  },
  {
   "cell_type": "code",
   "execution_count": 5,
   "id": "78979466",
   "metadata": {},
   "outputs": [],
   "source": [
    "def evenodd(n):\n",
    "    if n%2==0:\n",
    "        print(\"number is even\")\n",
    "    else:\n",
    "        print(\"number is odd\")"
   ]
  },
  {
   "cell_type": "code",
   "execution_count": 6,
   "id": "32aa1c5e",
   "metadata": {},
   "outputs": [
    {
     "name": "stdout",
     "output_type": "stream",
     "text": [
      "number is odd\n"
     ]
    }
   ],
   "source": [
    "evenodd(45)"
   ]
  },
  {
   "cell_type": "code",
   "execution_count": 7,
   "id": "7d54dc0d",
   "metadata": {},
   "outputs": [
    {
     "name": "stdout",
     "output_type": "stream",
     "text": [
      "number is even\n"
     ]
    }
   ],
   "source": [
    "evenodd(46)"
   ]
  },
  {
   "cell_type": "code",
   "execution_count": 14,
   "id": "c31dc348",
   "metadata": {},
   "outputs": [],
   "source": [
    "x=lambda n: \"even \" if n%2==0 else \"odd\""
   ]
  },
  {
   "cell_type": "code",
   "execution_count": 15,
   "id": "2d09b1ca",
   "metadata": {},
   "outputs": [
    {
     "data": {
      "text/plain": [
       "'even '"
      ]
     },
     "execution_count": 15,
     "metadata": {},
     "output_type": "execute_result"
    }
   ],
   "source": [
    "x(34)"
   ]
  },
  {
   "cell_type": "markdown",
   "id": "4e76a840",
   "metadata": {},
   "source": [
    "# write alambda function that accept two argument greater amount them"
   ]
  },
  {
   "cell_type": "code",
   "execution_count": 16,
   "id": "2ac7b784",
   "metadata": {},
   "outputs": [],
   "source": [
    "greatest_num=lambda a,b:a if a>b else b"
   ]
  },
  {
   "cell_type": "code",
   "execution_count": 19,
   "id": "abd4a9d3",
   "metadata": {},
   "outputs": [
    {
     "data": {
      "text/plain": [
       "6"
      ]
     },
     "execution_count": 19,
     "metadata": {},
     "output_type": "execute_result"
    }
   ],
   "source": [
    "greatest_num(4,6)"
   ]
  },
  {
   "cell_type": "markdown",
   "id": "55892e1f",
   "metadata": {},
   "source": [
    "lambda function to find sum of number"
   ]
  },
  {
   "cell_type": "code",
   "execution_count": 21,
   "id": "f7a015a8",
   "metadata": {},
   "outputs": [],
   "source": [
    "sum_of=lambda a,b,c:(a+b+c)"
   ]
  },
  {
   "cell_type": "code",
   "execution_count": 22,
   "id": "8a4fbcb1",
   "metadata": {},
   "outputs": [
    {
     "data": {
      "text/plain": [
       "14"
      ]
     },
     "execution_count": 22,
     "metadata": {},
     "output_type": "execute_result"
    }
   ],
   "source": [
    "sum_of(3,5,6)"
   ]
  },
  {
   "cell_type": "code",
   "execution_count": 35,
   "id": "c657fdc4",
   "metadata": {},
   "outputs": [
    {
     "name": "stdout",
     "output_type": "stream",
     "text": [
      "[{'name': 'product', 'price': 50}, {'name': 'product', 'price': 60}, {'name': 'product', 'price': 70}, {'name': 'product', 'price': 80}]\n"
     ]
    }
   ],
   "source": [
    "product=[\n",
    "     {\"name\":\"product\",\"price\":50},\n",
    "    {\"name\":\"product\",\"price\":60},\n",
    "    {\"name\":\"product\",\"price\":70},\n",
    "    {\"name\":\"product\",\"price\":80},\n",
    "]\n",
    "#shorted()\n",
    "sorted_product = sorted(product, key=lambda x: x[\"price\"])\n",
    "\n",
    " #sorted_product = sorted(product, key=lambda x: x[\"price\"])\n",
    "print( sorted_product)"
   ]
  },
  {
   "cell_type": "code",
   "execution_count": 29,
   "id": "a5ce386c",
   "metadata": {},
   "outputs": [
    {
     "name": "stdout",
     "output_type": "stream",
     "text": [
      "[{'name': 'product', 'price': 50}, {'name': 'product', 'price': 60}, {'name': 'product', 'price': 70}, {'name': 'product', 'price': 80}]\n"
     ]
    }
   ],
   "source": [
    "product = [\n",
    "    {\"name\": \"product\", \"price\": 50},\n",
    "    {\"name\": \"product\", \"price\": 60},\n",
    "    {\"name\": \"product\", \"price\": 70},\n",
    "    {\"name\": \"product\", \"price\": 80},\n",
    "]\n",
    "\n",
    "# Sorting the list of dictionaries based on the \"price\" key\n",
    "sorted_product = sorted(product, key=lambda x: x[\"price\"])\n",
    "\n",
    "# Displaying the sorted list of dictionaries\n",
    "print(sorted_product)\n"
   ]
  },
  {
   "cell_type": "code",
   "execution_count": 1,
   "id": "1aa9c2b1",
   "metadata": {},
   "outputs": [],
   "source": [
    "x={\"name\": \"product\", \"price\": 50},"
   ]
  },
  {
   "cell_type": "code",
   "execution_count": 2,
   "id": "5ec6b5ee",
   "metadata": {},
   "outputs": [],
   "source": [
    "key=lambda x:x [\"price\"]"
   ]
  },
  {
   "cell_type": "markdown",
   "id": "b55eba70",
   "metadata": {},
   "source": [
    "writing lambdha rxpression that accept a charecter as argument and return true if it is a vowel other false\n",
    "aeiou\n",
    "shahansha\n",
    "i a"
   ]
  },
  {
   "cell_type": "markdown",
   "id": "9d9829af",
   "metadata": {},
   "source": [
    "filter\n",
    "map\n",
    "result"
   ]
  },
  {
   "cell_type": "code",
   "execution_count": 10,
   "id": "a7ea82a0",
   "metadata": {},
   "outputs": [
    {
     "data": {
      "text/plain": [
       "'false'"
      ]
     },
     "execution_count": 10,
     "metadata": {},
     "output_type": "execute_result"
    }
   ],
   "source": [
    "vowel = lambda a :\"vowel\" if a in [\"a\",\"e\",\"i\",\"o\",\"u\"] else \"false\"\n",
    "vowel(\"aa\")"
   ]
  },
  {
   "cell_type": "code",
   "execution_count": 8,
   "id": "84569e3e",
   "metadata": {},
   "outputs": [
    {
     "name": "stdout",
     "output_type": "stream",
     "text": [
      "vowel\n"
     ]
    }
   ],
   "source": [
    "vowel = lambda a: \"vowel\" if a.lower() in [\"a\", \"e\", \"i\", \"o\", \"u\"] else \"false\"\n",
    "\n",
    "# Example usage:\n",
    "result = vowel('a')\n",
    "print(result)\n"
   ]
  },
  {
   "cell_type": "code",
   "execution_count": 9,
   "id": "352d330f",
   "metadata": {},
   "outputs": [
    {
     "data": {
      "text/plain": [
       "'vowel'"
      ]
     },
     "execution_count": 9,
     "metadata": {},
     "output_type": "execute_result"
    }
   ],
   "source": [
    "vowel = lambda a: \"vowel\" if a.lower() in [\"a\", \"e\", \"i\", \"o\", \"u\"] else \"false\"\n",
    "\n",
    "# Example usage:\n",
    "vowel('a')\n",
    "#print(result)\n"
   ]
  },
  {
   "cell_type": "code",
   "execution_count": 11,
   "id": "0000cc8b",
   "metadata": {},
   "outputs": [],
   "source": [
    "x=10"
   ]
  },
  {
   "cell_type": "code",
   "execution_count": 12,
   "id": "eb10559d",
   "metadata": {},
   "outputs": [
    {
     "data": {
      "text/plain": [
       "10"
      ]
     },
     "execution_count": 12,
     "metadata": {},
     "output_type": "execute_result"
    }
   ],
   "source": [
    "abs(x)"
   ]
  },
  {
   "cell_type": "code",
   "execution_count": 13,
   "id": "c7b0be40",
   "metadata": {},
   "outputs": [],
   "source": [
    "x=5"
   ]
  },
  {
   "cell_type": "code",
   "execution_count": 14,
   "id": "9d3a5d22",
   "metadata": {},
   "outputs": [
    {
     "data": {
      "text/plain": [
       "4373767512"
      ]
     },
     "execution_count": 14,
     "metadata": {},
     "output_type": "execute_result"
    }
   ],
   "source": [
    "id(x)"
   ]
  },
  {
   "cell_type": "code",
   "execution_count": 15,
   "id": "8e504c93",
   "metadata": {},
   "outputs": [
    {
     "data": {
      "text/plain": [
       "45"
      ]
     },
     "execution_count": 15,
     "metadata": {},
     "output_type": "execute_result"
    }
   ],
   "source": [
    "l=[1,2,3,4,45,]\n",
    "max(l)"
   ]
  },
  {
   "cell_type": "code",
   "execution_count": 16,
   "id": "f9ecb0a3",
   "metadata": {},
   "outputs": [],
   "source": [
    "x=2\n",
    "y=str(x)"
   ]
  },
  {
   "cell_type": "code",
   "execution_count": 17,
   "id": "64f3a1a6",
   "metadata": {},
   "outputs": [
    {
     "data": {
      "text/plain": [
       "'2'"
      ]
     },
     "execution_count": 17,
     "metadata": {},
     "output_type": "execute_result"
    }
   ],
   "source": [
    "y"
   ]
  },
  {
   "cell_type": "code",
   "execution_count": 18,
   "id": "3c146dc4",
   "metadata": {},
   "outputs": [
    {
     "data": {
      "text/plain": [
       "str"
      ]
     },
     "execution_count": 18,
     "metadata": {},
     "output_type": "execute_result"
    }
   ],
   "source": [
    "type(y)"
   ]
  },
  {
   "cell_type": "code",
   "execution_count": 19,
   "id": "e23788da",
   "metadata": {},
   "outputs": [],
   "source": [
    "language=[\"python\",\"java\",\"swift\"]"
   ]
  },
  {
   "cell_type": "code",
   "execution_count": 24,
   "id": "b81e8d97",
   "metadata": {},
   "outputs": [],
   "source": [
    "enumerate_price=enumerate(language,70)"
   ]
  },
  {
   "cell_type": "code",
   "execution_count": 25,
   "id": "3c24e6e6",
   "metadata": {},
   "outputs": [
    {
     "data": {
      "text/plain": [
       "[(70, 'python'), (71, 'java'), (72, 'swift')]"
      ]
     },
     "execution_count": 25,
     "metadata": {},
     "output_type": "execute_result"
    }
   ],
   "source": [
    "list(enumerate_price)"
   ]
  },
  {
   "cell_type": "markdown",
   "id": "7387bab1",
   "metadata": {},
   "source": [
    "#list comprehension"
   ]
  },
  {
   "cell_type": "code",
   "execution_count": 26,
   "id": "03221d8e",
   "metadata": {},
   "outputs": [],
   "source": [
    "list=[1,2,3,4,5,6,78,99,]\n"
   ]
  },
  {
   "cell_type": "code",
   "execution_count": 27,
   "id": "ccbfef2e",
   "metadata": {},
   "outputs": [],
   "source": [
    "a=[x for x in list]"
   ]
  },
  {
   "cell_type": "code",
   "execution_count": 28,
   "id": "f0bfa6fc",
   "metadata": {},
   "outputs": [
    {
     "data": {
      "text/plain": [
       "[1, 2, 3, 4, 5, 6, 78, 99]"
      ]
     },
     "execution_count": 28,
     "metadata": {},
     "output_type": "execute_result"
    }
   ],
   "source": [
    "a"
   ]
  },
  {
   "cell_type": "code",
   "execution_count": 29,
   "id": "30b53d8e",
   "metadata": {},
   "outputs": [
    {
     "name": "stdout",
     "output_type": "stream",
     "text": [
      "1\n",
      "2\n",
      "3\n",
      "4\n",
      "5\n",
      "6\n",
      "78\n",
      "99\n"
     ]
    }
   ],
   "source": [
    "for i in list:\n",
    "    print(i)"
   ]
  },
  {
   "cell_type": "code",
   "execution_count": 31,
   "id": "e9ecf32d",
   "metadata": {},
   "outputs": [],
   "source": [
    "list=[1,2,3,4,5,6,78,99,]\n",
    "a =[x+1 for x in  list]"
   ]
  },
  {
   "cell_type": "code",
   "execution_count": 32,
   "id": "34a6d560",
   "metadata": {},
   "outputs": [
    {
     "data": {
      "text/plain": [
       "[2, 3, 4, 5, 6, 7, 79, 100]"
      ]
     },
     "execution_count": 32,
     "metadata": {},
     "output_type": "execute_result"
    }
   ],
   "source": [
    "a"
   ]
  },
  {
   "cell_type": "code",
   "execution_count": 33,
   "id": "e04070bc",
   "metadata": {},
   "outputs": [],
   "source": [
    "list=[1,2,3,4,5,6,78,99,]\n",
    "a =[x*2 for x in  list]"
   ]
  },
  {
   "cell_type": "code",
   "execution_count": 34,
   "id": "36b6378c",
   "metadata": {},
   "outputs": [
    {
     "data": {
      "text/plain": [
       "[2, 4, 6, 8, 10, 12, 156, 198]"
      ]
     },
     "execution_count": 34,
     "metadata": {},
     "output_type": "execute_result"
    }
   ],
   "source": [
    "a"
   ]
  },
  {
   "cell_type": "code",
   "execution_count": 35,
   "id": "7140e627",
   "metadata": {},
   "outputs": [],
   "source": [
    "list=[1,2,3,4,5,6,78,99,]\n",
    "a =[x/2 for x in  list]"
   ]
  },
  {
   "cell_type": "code",
   "execution_count": 36,
   "id": "611a5af4",
   "metadata": {},
   "outputs": [
    {
     "data": {
      "text/plain": [
       "[0.5, 1.0, 1.5, 2.0, 2.5, 3.0, 39.0, 49.5]"
      ]
     },
     "execution_count": 36,
     "metadata": {},
     "output_type": "execute_result"
    }
   ],
   "source": [
    "a"
   ]
  },
  {
   "cell_type": "code",
   "execution_count": 53,
   "id": "b841e366",
   "metadata": {},
   "outputs": [
    {
     "ename": "NameError",
     "evalue": "name 'ist' is not defined",
     "output_type": "error",
     "traceback": [
      "\u001b[0;31m---------------------------------------------------------------------------\u001b[0m",
      "\u001b[0;31mNameError\u001b[0m                                 Traceback (most recent call last)",
      "Cell \u001b[0;32mIn[53], line 2\u001b[0m\n\u001b[1;32m      1\u001b[0m \u001b[38;5;28mlist\u001b[39m\u001b[38;5;241m=\u001b[39m[\u001b[38;5;241m1\u001b[39m,\u001b[38;5;241m2\u001b[39m,\u001b[38;5;241m3\u001b[39m,\u001b[38;5;241m4\u001b[39m,\u001b[38;5;241m5\u001b[39m,\u001b[38;5;241m6\u001b[39m,\u001b[38;5;241m78\u001b[39m,\u001b[38;5;241m99\u001b[39m,]\n\u001b[0;32m----> 2\u001b[0m a \u001b[38;5;241m=\u001b[39m[x\u001b[38;5;241m+\u001b[39m\u001b[38;5;241m1\u001b[39m \u001b[38;5;28;01mfor\u001b[39;00m x \u001b[38;5;129;01min\u001b[39;00m  ist \u001b[38;5;28;01mif\u001b[39;00m x\u001b[38;5;241m>\u001b[39m\u001b[38;5;241m4\u001b[39m]\n",
      "\u001b[0;31mNameError\u001b[0m: name 'ist' is not defined"
     ]
    }
   ],
   "source": [
    "list=[1,2,3,4,5,6,78,99,]\n",
    "a =[x+1 for x in  ist if x>4]"
   ]
  },
  {
   "cell_type": "code",
   "execution_count": 54,
   "id": "3fa66046",
   "metadata": {},
   "outputs": [
    {
     "ename": "NameError",
     "evalue": "name 'ist' is not defined",
     "output_type": "error",
     "traceback": [
      "\u001b[0;31m---------------------------------------------------------------------------\u001b[0m",
      "\u001b[0;31mNameError\u001b[0m                                 Traceback (most recent call last)",
      "Cell \u001b[0;32mIn[54], line 3\u001b[0m\n\u001b[1;32m      1\u001b[0m a\u001b[38;5;241m=\u001b[39m[]\n\u001b[0;32m----> 3\u001b[0m \u001b[38;5;28;01mfor\u001b[39;00m x \u001b[38;5;129;01min\u001b[39;00m ist:\n\u001b[1;32m      4\u001b[0m     \u001b[38;5;28;01mif\u001b[39;00m x\u001b[38;5;241m>\u001b[39m\u001b[38;5;241m4\u001b[39m:\n\u001b[1;32m      5\u001b[0m         a\u001b[38;5;241m.\u001b[39mappend(x)\n",
      "\u001b[0;31mNameError\u001b[0m: name 'ist' is not defined"
     ]
    }
   ],
   "source": [
    "a=[]\n",
    "\n",
    "for x in ist:\n",
    "    if x>4:\n",
    "        a.append(x)\n",
    "        "
   ]
  },
  {
   "cell_type": "code",
   "execution_count": 51,
   "id": "8f09894a",
   "metadata": {},
   "outputs": [
    {
     "data": {
      "text/plain": [
       "[]"
      ]
     },
     "execution_count": 51,
     "metadata": {},
     "output_type": "execute_result"
    }
   ],
   "source": [
    "a"
   ]
  },
  {
   "cell_type": "code",
   "execution_count": 57,
   "id": "062c33e1",
   "metadata": {},
   "outputs": [
    {
     "ename": "NameError",
     "evalue": "name 'ist' is not defined",
     "output_type": "error",
     "traceback": [
      "\u001b[0;31m---------------------------------------------------------------------------\u001b[0m",
      "\u001b[0;31mNameError\u001b[0m                                 Traceback (most recent call last)",
      "Cell \u001b[0;32mIn[57], line 2\u001b[0m\n\u001b[1;32m      1\u001b[0m \u001b[38;5;28mlist\u001b[39m\u001b[38;5;241m=\u001b[39m[\u001b[38;5;241m1\u001b[39m,\u001b[38;5;241m2\u001b[39m,\u001b[38;5;241m3\u001b[39m,\u001b[38;5;241m4\u001b[39m,\u001b[38;5;241m5\u001b[39m,\u001b[38;5;241m6\u001b[39m,\u001b[38;5;241m78\u001b[39m,\u001b[38;5;241m99\u001b[39m]\n\u001b[0;32m----> 2\u001b[0m d\u001b[38;5;241m=\u001b[39m[x \u001b[38;5;28;01mfor\u001b[39;00m x \u001b[38;5;129;01min\u001b[39;00m ist \u001b[38;5;28;01mif\u001b[39;00m x\u001b[38;5;241m>\u001b[39m\u001b[38;5;241m4\u001b[39m \u001b[38;5;28;01mif\u001b[39;00m x\u001b[38;5;241m%\u001b[39m\u001b[38;5;241m2\u001b[39m\u001b[38;5;241m==\u001b[39m\u001b[38;5;241m0\u001b[39m]\n",
      "\u001b[0;31mNameError\u001b[0m: name 'ist' is not defined"
     ]
    }
   ],
   "source": [
    "list=[1,2,3,4,5,6,78,99]\n",
    "d=[x for x in ist if x>4 if x%2==0]"
   ]
  },
  {
   "cell_type": "code",
   "execution_count": 58,
   "id": "257f4a8d",
   "metadata": {},
   "outputs": [
    {
     "name": "stdout",
     "output_type": "stream",
     "text": [
      "[6, 78]\n"
     ]
    }
   ],
   "source": [
    "my_list = [1, 2, 3, 4, 5, 6, 78, 99]\n",
    "\n",
    "# Use a list comprehension to create a new list 'd' with elements greater than 4 and even\n",
    "d = [x for x in my_list if x > 4 and x % 2 == 0]\n",
    "\n",
    "# Display the result\n",
    "print(d)"
   ]
  },
  {
   "cell_type": "code",
   "execution_count": 63,
   "id": "0c21ac56",
   "metadata": {},
   "outputs": [],
   "source": [
    "list=[1,2,3,4,5,6,78,99,2]\n"
   ]
  },
  {
   "cell_type": "code",
   "execution_count": 64,
   "id": "14bfe96e",
   "metadata": {},
   "outputs": [],
   "source": [
    "e=[x if x>4 else \"less then 4\"for x in list]"
   ]
  },
  {
   "cell_type": "code",
   "execution_count": 62,
   "id": "92718ddc",
   "metadata": {},
   "outputs": [
    {
     "data": {
      "text/plain": [
       "['less then 4', 'less then 4', 'less then 4', 'less then 4', 5, 6, 78, 99]"
      ]
     },
     "execution_count": 62,
     "metadata": {},
     "output_type": "execute_result"
    }
   ],
   "source": [
    "e"
   ]
  },
  {
   "cell_type": "code",
   "execution_count": null,
   "id": "6a066009",
   "metadata": {},
   "outputs": [],
   "source": [
    "a=[]\n",
    "for x in 1st:\n",
    "    if x>4:\n",
    "        a.append(x)\n",
    "    else:\n",
    "        a.append(\"less the 4\""
   ]
  },
  {
   "cell_type": "code",
   "execution_count": 67,
   "id": "da3ac669",
   "metadata": {},
   "outputs": [
    {
     "name": "stdout",
     "output_type": "stream",
     "text": [
      "['less than 4', 'less than 4', 6, 8, 'less than 4', 5, 7]\n"
     ]
    }
   ],
   "source": [
    "# Assuming you have a list named '1st'\n",
    "first_list = [1, 2, 6, 8, 3, 5, 7]\n",
    "\n",
    "# Initialize an empty list 'a'\n",
    "a = []\n",
    "\n",
    "# Iterate over elements in 'first_list'\n",
    "for x in first_list:\n",
    "    # Check if the element is greater than 4\n",
    "    if x > 4:\n",
    "        # Append the element to list 'a'\n",
    "        a.append(x)\n",
    "    else:\n",
    "        # Append the string \"less than 4\" to list 'a'\n",
    "        a.append(\"less than 4\")\n",
    "\n",
    "# Display the result\n",
    "print(a)\n"
   ]
  },
  {
   "cell_type": "markdown",
   "id": "531292b6",
   "metadata": {},
   "source": [
    "# sesson end"
   ]
  }
 ],
 "metadata": {
  "kernelspec": {
   "display_name": "Python 3 (ipykernel)",
   "language": "python",
   "name": "python3"
  },
  "language_info": {
   "codemirror_mode": {
    "name": "ipython",
    "version": 3
   },
   "file_extension": ".py",
   "mimetype": "text/x-python",
   "name": "python",
   "nbconvert_exporter": "python",
   "pygments_lexer": "ipython3",
   "version": "3.11.5"
  }
 },
 "nbformat": 4,
 "nbformat_minor": 5
}
