{
 "cells": [
  {
   "cell_type": "code",
   "execution_count": 17,
   "id": "9eba70c0",
   "metadata": {},
   "outputs": [
    {
     "name": "stdout",
     "output_type": "stream",
     "text": [
      "yes i will be able to buy\n"
     ]
    }
   ],
   "source": [
    "a = 500\n",
    "price= 450\n",
    "\n",
    "if price <= 500:\n",
    "    print(\"yes i will be able to buy\")"
   ]
  },
  {
   "cell_type": "code",
   "execution_count": 18,
   "id": "2bad4f05",
   "metadata": {},
   "outputs": [
    {
     "data": {
      "text/plain": [
       "True"
      ]
     },
     "execution_count": 18,
     "metadata": {},
     "output_type": "execute_result"
    }
   ],
   "source": [
    "price<=500"
   ]
  },
  {
   "cell_type": "code",
   "execution_count": 21,
   "id": "75fd49f0",
   "metadata": {},
   "outputs": [
    {
     "data": {
      "text/plain": [
       "False"
      ]
     },
     "execution_count": 21,
     "metadata": {},
     "output_type": "execute_result"
    }
   ],
   "source": [
    "850<=500"
   ]
  },
  {
   "cell_type": "code",
   "execution_count": 26,
   "id": "f1cc7dfe",
   "metadata": {},
   "outputs": [
    {
     "name": "stdout",
     "output_type": "stream",
     "text": [
      "yes i will be able to buy\n"
     ]
    }
   ],
   "source": [
    "a = 500\n",
    "shirt_price=200\n",
    "pant_price=500\n",
    "coat_price=100\n",
    "price= 450\n",
    "\n",
    "if price <= 500:\n",
    "    print(\"yes i will be able to buy\")\n",
    "elif  pant_price<500:  \n",
    "    \n",
    "    print(\"i will try to by pant\")\n",
    "    \n",
    "elif shirt_price<500:\n",
    "        print(\"I will try to buy a shirt.\")\n",
    "else:\n",
    "    print(\"i want be able to by\")"
   ]
  },
  {
   "cell_type": "code",
   "execution_count": 48,
   "id": "9ed05cb7",
   "metadata": {},
   "outputs": [
    {
     "name": "stdout",
     "output_type": "stream",
     "text": [
      "yes i will be able to buy\n"
     ]
    }
   ],
   "source": [
    "a = 500\n",
    "shirt_price=200\n",
    "pant_price=500\n",
    "coat_price=100\n",
    "price= 450\n",
    "\n",
    "if price <= 500:\n",
    "    print(\"yes i will be able to buy\")\n",
    "elif  pant_price<500:  \n",
    "    \n",
    "    print(\"i will try to by pant\")\n",
    "    \n",
    "elif shirt_price<500:\n",
    "        print(\"I will try to buy a shirt.\")\n",
    "else:\n",
    "    print(\"i want be able to by\")"
   ]
  },
  {
   "cell_type": "code",
   "execution_count": 49,
   "id": "cd80d4fc",
   "metadata": {},
   "outputs": [
    {
     "ename": "IndentationError",
     "evalue": "expected an indented block after 'elif' statement on line 13 (417220326.py, line 14)",
     "output_type": "error",
     "traceback": [
      "\u001b[0;36m  Cell \u001b[0;32mIn[49], line 14\u001b[0;36m\u001b[0m\n\u001b[0;31m    elif my_size==size_store:\u001b[0m\n\u001b[0m    ^\u001b[0m\n\u001b[0;31mIndentationError\u001b[0m\u001b[0;31m:\u001b[0m expected an indented block after 'elif' statement on line 13\n"
     ]
    }
   ],
   "source": [
    "a = 500\n",
    "shirt_price = 200\n",
    "pant_price = 500\n",
    "coat_price = 100\n",
    "#price = 450\n",
    "my_size=\"m\"\n",
    "size_store=\"l\"\n",
    "\n",
    "if price <= 500:\n",
    "    print(\"Yes, I will be able to buy.\")\n",
    "elif pant_price < 500:\n",
    "    print(\"I will try to buy pants.\")\n",
    "elif shirt_price < 500:\n",
    "elif my_size==size_store:\n",
    "    print(\"yes its ableble under th my buject\")\n",
    "    \n",
    "    print(\"I will try to buy a shirt.\")\n",
    "else:\n",
    "    print(\"I won't be able to buy either pants or shirt.\")\n"
   ]
  },
  {
   "cell_type": "code",
   "execution_count": 46,
   "id": "0bef4324",
   "metadata": {},
   "outputs": [
    {
     "name": "stdout",
     "output_type": "stream",
     "text": [
      "Yes, I will be able to buy.\n"
     ]
    },
    {
     "ename": "NameError",
     "evalue": "name 'my_fav_clr' is not defined",
     "output_type": "error",
     "traceback": [
      "\u001b[0;31m---------------------------------------------------------------------------\u001b[0m",
      "\u001b[0;31mNameError\u001b[0m                                 Traceback (most recent call last)",
      "Cell \u001b[0;32mIn[46], line 15\u001b[0m\n\u001b[1;32m     13\u001b[0m \u001b[38;5;28;01melif\u001b[39;00m pant_price \u001b[38;5;241m<\u001b[39m \u001b[38;5;241m500\u001b[39m:\n\u001b[1;32m     14\u001b[0m     \u001b[38;5;28mprint\u001b[39m(\u001b[38;5;124m\"\u001b[39m\u001b[38;5;124mI will try to buy pants.\u001b[39m\u001b[38;5;124m\"\u001b[39m)\n\u001b[0;32m---> 15\u001b[0m \u001b[38;5;28;01mif\u001b[39;00m my_fav_clr \u001b[38;5;129;01min\u001b[39;00m store_clr:\n\u001b[1;32m     16\u001b[0m     \u001b[38;5;28mprint\u001b[39m(\u001b[38;5;124m\"\u001b[39m\u001b[38;5;124myes i will try to buy shirt\u001b[39m\u001b[38;5;124m\"\u001b[39m)\n\u001b[1;32m     17\u001b[0m \u001b[38;5;66;03m#else:\u001b[39;00m\n\u001b[1;32m     18\u001b[0m     \u001b[38;5;66;03m#print(\"my fav clr is nit store i will move to another store\")\u001b[39;00m\n",
      "\u001b[0;31mNameError\u001b[0m: name 'my_fav_clr' is not defined"
     ]
    }
   ],
   "source": [
    "a = 500\n",
    "shirt_price = 200\n",
    "pant_price = 500\n",
    "coat_price = 100\n",
    "price = 450\n",
    "my_size = \"m\"\n",
    "size_store = [\"l\",\"xl\",\"xxl\",\"xxxl\"]\n",
    "#my_fav_clr=\"white\"\n",
    "#store_clr=[\"white\",\"blue\",\"black\",\"oring\"]\n",
    "\n",
    "if price <= 500:\n",
    "    print(\"Yes, I will be able to buy.\")\n",
    "elif pant_price < 500:\n",
    "    print(\"I will try to buy pants.\")\n",
    "if my_fav_clr in store_clr:\n",
    "    print(\"yes i will try to buy shirt\")\n",
    "#else:\n",
    "    #print(\"my fav clr is nit store i will move to another store\")\n",
    "elif shirt_price < 500 and my_size == size_store:\n",
    "    print(\"Yes, it's affordable under my budget, and my size matches. I will try to buy a shirt.\")\n",
    "else:\n",
    "    print(\"I won't be able to buy either pants or a shirt.\")\n"
   ]
  },
  {
   "cell_type": "code",
   "execution_count": 42,
   "id": "2ad4cc25",
   "metadata": {},
   "outputs": [
    {
     "data": {
      "text/plain": [
       "False"
      ]
     },
     "execution_count": 42,
     "metadata": {},
     "output_type": "execute_result"
    }
   ],
   "source": [
    "my_size==size_store"
   ]
  },
  {
   "cell_type": "code",
   "execution_count": 47,
   "id": "fdee6bca",
   "metadata": {},
   "outputs": [
    {
     "name": "stdout",
     "output_type": "stream",
     "text": [
      "Yes, I will be able to buy.\n"
     ]
    }
   ],
   "source": [
    "a = 500\n",
    "shirt_price = 200\n",
    "pant_price = 500\n",
    "coat_price = 100\n",
    "price = 450\n",
    "my_size = \"m\"\n",
    "size_store = [\"l\", \"xl\", \"xxl\", \"xxxl\"]\n",
    "my_fav_clr = \"white\"\n",
    "store_clr = [\"white\", \"blue\", \"black\", \"orange\"]\n",
    "\n",
    "if price <= 500:\n",
    "    print(\"Yes, I will be able to buy.\")\n",
    "elif pant_price < 500:\n",
    "    print(\"I will try to buy pants.\")\n",
    "elif my_fav_clr in store_clr:\n",
    "    print(\"Yes, my favorite color is available. I will try to buy a shirt.\")\n",
    "elif shirt_price < 500 and my_size in size_store:\n",
    "    print(\"Yes, it's affordable under my budget, and my size matches. I will try to buy a shirt.\")\n",
    "else:\n",
    "    print(\"I won't be able to buy either pants or a shirt.\")\n"
   ]
  },
  {
   "cell_type": "code",
   "execution_count": 14,
   "id": "0aaf27b6",
   "metadata": {},
   "outputs": [],
   "source": [
    "courses = [\"dsm\", \"dsa\", \"java\", \"big data\", \"da\"]\n",
    "price = 20000\n",
    "mentor = \"sudhanshu kumar\"\n",
    "\n",
    "if \"dsm\" in courses and price == 10000 and mentor == \"sudhanshu kumar\":\n",
    "    print(\"Yes, I am doing this course.\")\n"
   ]
  },
  {
   "cell_type": "code",
   "execution_count": 15,
   "id": "ad2b303e",
   "metadata": {},
   "outputs": [
    {
     "name": "stdout",
     "output_type": "stream",
     "text": [
      "its out of my budget\n"
     ]
    }
   ],
   "source": [
    "course_price=20000\n",
    "if 10000<=course_price<=15000:\n",
    "    print(\"i will try to buy this course\")\n",
    "    \n",
    "else:\n",
    "    print(\"its out of my budget\")"
   ]
  },
  {
   "cell_type": "code",
   "execution_count": 17,
   "id": "51db0cd9",
   "metadata": {},
   "outputs": [
    {
     "name": "stdout",
     "output_type": "stream",
     "text": [
      "enter your user nameshahansha\n",
      "enter your passwordsofyan\n",
      "you have to login successfull\n"
     ]
    }
   ],
   "source": [
    "user_name=\"shahansha\"\n",
    "password=\"sofyan\"\n",
    "\n",
    "if user_name==input(\"enter your user name\") and password ==input(\"enter your password\"):\n",
    "   print(\"you have to login successfull\")\n",
    "else:\n",
    "    print(\"enter correct user name and password\")"
   ]
  },
  {
   "cell_type": "code",
   "execution_count": 3,
   "id": "6186fa4f",
   "metadata": {},
   "outputs": [
    {
     "name": "stdout",
     "output_type": "stream",
     "text": [
      "enter your user name:shaha\n",
      "enter correct user name and password\n"
     ]
    }
   ],
   "source": [
    "user_name=\"shahansha\"\n",
    "password=\"sofyan\"\n",
    "\n",
    "if user_name==input(\"enter your user name:\") and password ==input(\"enter your password:\"):\n",
    "   print(\"you have to login successfull\")\n",
    "else:\n",
    "    print(\"enter correct user name and password\")"
   ]
  },
  {
   "cell_type": "code",
   "execution_count": 1,
   "id": "dc3cb187",
   "metadata": {},
   "outputs": [
    {
     "name": "stdout",
     "output_type": "stream",
     "text": [
      "enter your user name:shahansha\n",
      "you have to login successfull:\n"
     ]
    }
   ],
   "source": [
    "user_name=\"shahansha\"\n",
    "password=\"sofyan\"\n",
    "\n",
    "if user_name==input(\"enter your user name:\") or password ==input(\"enter your password:\"):\n",
    "   print(\"you have to login successfull:\")\n",
    "else:\n",
    "    print(\"enter correct user name and password\")\n",
    "    "
   ]
  },
  {
   "cell_type": "code",
   "execution_count": 24,
   "id": "e12d4fc3",
   "metadata": {},
   "outputs": [
    {
     "name": "stdout",
     "output_type": "stream",
     "text": [
      "enter your register mo no78777\n",
      "enter otp send we have send your mo no444\n",
      "otp is not correct plz try again\n"
     ]
    }
   ],
   "source": [
    "mobile_no=7070401504\n",
    "otp=1234\n",
    "if mobile_no==input(\"enter your register mo no\"):\n",
    "    print(\"yes you are a register user\")\n",
    "if otp==input(\"enter otp send we have send your mo no\"):\n",
    "    print(\"youn have login successfully\")\n",
    "else:\n",
    "      print(\"otp is not correct plz try again\")\n",
    "#else:\n",
    "  #    print(\"you have not valid mo no\")\n"
   ]
  },
  {
   "cell_type": "code",
   "execution_count": 2,
   "id": "087d19e7",
   "metadata": {},
   "outputs": [
    {
     "name": "stdout",
     "output_type": "stream",
     "text": [
      "Enter your registered mobile number: 7070401504\n",
      "Yes, you are a registered user.\n",
      "Enter the OTP sent to your mobile number: 1234\n",
      "You have logged in successfully.\n"
     ]
    }
   ],
   "source": [
    "mobile_no = 7070401504\n",
    "otp = 1234\n",
    "\n",
    "entered_mobile_no = int(input(\"Enter your registered mobile number: \"))\n",
    "\n",
    "if mobile_no == entered_mobile_no:\n",
    "    print(\"Yes, you are a registered user.\")\n",
    "    entered_otp = int(input(\"Enter the OTP sent to your mobile number: \"))\n",
    "    \n",
    "    if otp == entered_otp:\n",
    "        print(\"You have logged in successfully.\")\n",
    "    else:\n",
    "        print(\"OTP is not correct. Please try again.\")\n",
    "else:\n",
    "    print(\"You have entered an invalid mobile number.\")\n"
   ]
  },
  {
   "cell_type": "code",
   "execution_count": 4,
   "id": "b6d2e523",
   "metadata": {},
   "outputs": [
    {
     "name": "stdout",
     "output_type": "stream",
     "text": [
      "Enter your registered mobile number: 7070\n",
      "You have entered an invalid mobile number.\n"
     ]
    }
   ],
   "source": [
    "mobile_no = {7070,5656,6,5,65543,44545,545,6565}\n",
    "otp = 1234\n",
    "\n",
    "entered_mobile_no = int(input(\"Enter your registered mobile number: \"))\n",
    "\n",
    "if mobile_no == entered_mobile_no:\n",
    "    print(\"Yes, you are a registered user.\")\n",
    "    entered_otp = int(input(\"Enter the OTP sent to your mobile number: \"))\n",
    "    \n",
    "    if otp == entered_otp:\n",
    "        print(\"You have logged in successfully.\")\n",
    "    else:\n",
    "        print(\"OTP is not correct. Please try again.\")\n",
    "else:\n",
    "    print(\"You have entered an invalid mobile number.\")\n"
   ]
  },
  {
   "cell_type": "code",
   "execution_count": 9,
   "id": "4f1a9fcb",
   "metadata": {},
   "outputs": [
    {
     "name": "stdout",
     "output_type": "stream",
     "text": [
      "12\n",
      "23\n",
      "34\n",
      "4\n",
      "457\n",
      "8\n",
      "9\n"
     ]
    }
   ],
   "source": [
    "l=[12,23,34,4,457,8,9,]\n",
    "\n",
    "for i in l:\n",
    "    print(i)"
   ]
  },
  {
   "cell_type": "code",
   "execution_count": 14,
   "id": "7d477c94",
   "metadata": {},
   "outputs": [
    {
     "name": "stdout",
     "output_type": "stream",
     "text": [
      "7070\n",
      "5656\n",
      "6\n",
      "5\n",
      "65543\n",
      "44545\n",
      "545\n",
      "6565\n"
     ]
    }
   ],
   "source": [
    "l=[23,45,56,89,44]\n",
    "mobile_no = [7070,5656,6,5,65543,44545,545,6565]\n",
    "for i in mobile_no:\n",
    "     print(i)"
   ]
  },
  {
   "cell_type": "code",
   "execution_count": 18,
   "id": "7370b6f7",
   "metadata": {},
   "outputs": [
    {
     "name": "stdout",
     "output_type": "stream",
     "text": [
      "7070\n",
      "5656\n",
      "6\n",
      "5\n",
      "65543\n",
      "yes this user are register\n",
      "44545\n",
      "545\n",
      "6565\n"
     ]
    }
   ],
   "source": [
    "l=[23,45,56,89,44]\n",
    "mobile_no = [7070,5656,6,5,65543,44545,545,6565]\n",
    "stud_mo=65543\n",
    "for i in mobile_no:\n",
    "    print(i)\n",
    "    if  i ==stud_mo:\n",
    "     print(\"yes this user are register\")"
   ]
  },
  {
   "cell_type": "code",
   "execution_count": 29,
   "id": "d9a7e6ce",
   "metadata": {},
   "outputs": [
    {
     "name": "stdout",
     "output_type": "stream",
     "text": [
      "7070\n",
      "5656\n",
      "6\n",
      "5\n",
      "65543\n",
      "yes this user are register\n",
      "44545\n",
      "545\n",
      "6565\n"
     ]
    }
   ],
   "source": [
    "l=[23,45,56,89,44]\n",
    "mobile_no = [7070,5656,6,5,65543,44545,545,6565]\n",
    "stud_mo=65543\n",
    "stud_details={\"mobile_no\":23432,\"course\":[\"dsa\",\"dsm\",\"big data\"]}\n",
    "    \n",
    "\n",
    "for i in mobile_no:\n",
    "    print(i)\n",
    "    if  i ==stud_mo:\n",
    "         print(\"yes this user are register\")\n",
    "if i ==stud_details[\"mobile_no\"]:\n",
    "        print(\"yesh student details are avalable\")\n",
    "        print(\"course access to this details are is\",stud_details[\"course\"])"
   ]
  },
  {
   "cell_type": "code",
   "execution_count": 32,
   "id": "cf721584",
   "metadata": {},
   "outputs": [
    {
     "name": "stdout",
     "output_type": "stream",
     "text": [
      "1\n",
      "2\n",
      "3\n",
      "4\n",
      "5\n",
      "5\n",
      "6\n",
      "7\n"
     ]
    }
   ],
   "source": [
    "t=(1,2,3,4,5,5,6,7)\n",
    "for i in t:\n",
    "    print(i)"
   ]
  },
  {
   "cell_type": "code",
   "execution_count": 43,
   "id": "497a4060",
   "metadata": {},
   "outputs": [
    {
     "name": "stdout",
     "output_type": "stream",
     "text": [
      "[12, 34, 5, 5]\n",
      "['mohamm', 'shahanshah']\n"
     ]
    }
   ],
   "source": [
    "t = (12, 34, 5, 5, \"mohamm\", \"shahanshah\")\n",
    "l_int = []\n",
    "l_str = []\n",
    "\n",
    "for i in t:\n",
    "    if type(i) == str:\n",
    "        l_str.append(i)\n",
    "    elif type(i) == int:\n",
    "        l_int.append(i)\n",
    "\n",
    "print(l_int)\n",
    "print(l_str)"
   ]
  },
  {
   "cell_type": "code",
   "execution_count": 49,
   "id": "64cccfae",
   "metadata": {},
   "outputs": [
    {
     "data": {
      "text/plain": [
       "[12, 34, 5, 5]"
      ]
     },
     "execution_count": 49,
     "metadata": {},
     "output_type": "execute_result"
    }
   ],
   "source": [
    "l_int"
   ]
  },
  {
   "cell_type": "code",
   "execution_count": 50,
   "id": "808d8d4a",
   "metadata": {},
   "outputs": [
    {
     "data": {
      "text/plain": [
       "['mohamm', 'shahanshah']"
      ]
     },
     "execution_count": 50,
     "metadata": {},
     "output_type": "execute_result"
    }
   ],
   "source": [
    "l_str"
   ]
  },
  {
   "cell_type": "code",
   "execution_count": 52,
   "id": "393cc052",
   "metadata": {},
   "outputs": [],
   "source": [
    "s={2,3,45,6,8,9,3}"
   ]
  },
  {
   "cell_type": "code",
   "execution_count": 53,
   "id": "cd1bb943",
   "metadata": {},
   "outputs": [
    {
     "name": "stdout",
     "output_type": "stream",
     "text": [
      "2\n",
      "3\n",
      "6\n",
      "8\n",
      "9\n",
      "45\n"
     ]
    }
   ],
   "source": [
    "for i in s:\n",
    "    print(i)"
   ]
  },
  {
   "cell_type": "code",
   "execution_count": 57,
   "id": "6e489933",
   "metadata": {},
   "outputs": [],
   "source": [
    "d = {\"name\": \"shahsnaha\", \"class\": [\"big data\", \"data analytics\", \"dsa\", \"sa\"]}\n",
    "\n"
   ]
  },
  {
   "cell_type": "code",
   "execution_count": 60,
   "id": "9862403c",
   "metadata": {},
   "outputs": [
    {
     "data": {
      "text/plain": [
       "{'name': 'shahsnaha', 'class': ['big data', 'data analytics', 'dsa', 'sa']}"
      ]
     },
     "execution_count": 60,
     "metadata": {},
     "output_type": "execute_result"
    }
   ],
   "source": [
    "d"
   ]
  },
  {
   "cell_type": "code",
   "execution_count": 66,
   "id": "40611172",
   "metadata": {},
   "outputs": [],
   "source": [
    "\n",
    "for i in d.values():\n",
    "    if type(i) == list:\n",
    "        if \"system design\" in i:\n",
    "            print(\"Yes, this mentor is a system design.\")\n"
   ]
  },
  {
   "cell_type": "markdown",
   "id": "0068b7fd",
   "metadata": {},
   "source": [
    "# sesson end"
   ]
  },
  {
   "cell_type": "code",
   "execution_count": null,
   "id": "4bcf9865",
   "metadata": {},
   "outputs": [],
   "source": []
  }
 ],
 "metadata": {
  "kernelspec": {
   "display_name": "Python 3 (ipykernel)",
   "language": "python",
   "name": "python3"
  },
  "language_info": {
   "codemirror_mode": {
    "name": "ipython",
    "version": 3
   },
   "file_extension": ".py",
   "mimetype": "text/x-python",
   "name": "python",
   "nbconvert_exporter": "python",
   "pygments_lexer": "ipython3",
   "version": "3.11.5"
  }
 },
 "nbformat": 4,
 "nbformat_minor": 5
}
